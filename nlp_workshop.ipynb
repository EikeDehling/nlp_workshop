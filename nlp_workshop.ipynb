{
 "cells": [
  {
   "cell_type": "markdown",
   "metadata": {},
   "source": [
    "# NLP Workshop : Text Classification\n",
    "\n",
    "In this workshop we'll learn about a NLP (Natural Language Processing) technique called Text Classification. This means to identify which catagory a piece of text belongs. An example application of this is sentiment analysis, detecting positive or negative texts.\n",
    "\n",
    "We will use a dataset from crowdflower about hate speech - the use case is detecting offensive language on social media."
   ]
  },
  {
   "cell_type": "markdown",
   "metadata": {},
   "source": [
    "*Note: Install the following missing libraries if using the docker image build:*\n"
   ]
  },
  {
   "cell_type": "code",
   "execution_count": null,
   "metadata": {},
   "outputs": [],
   "source": [
    "!pip install gensim\n",
    "!pip install imblearn\n",
    "!pip install lightgbm"
   ]
  },
  {
   "cell_type": "markdown",
   "metadata": {},
   "source": [
    "Need this to init random seed to fixed value, so we get consistent results.."
   ]
  },
  {
   "cell_type": "code",
   "execution_count": 1,
   "metadata": {},
   "outputs": [],
   "source": [
    "import numpy as np\n",
    "\n",
    "np.random.seed(42)"
   ]
  },
  {
   "cell_type": "markdown",
   "metadata": {},
   "source": [
    "## 1. Loading data\n",
    "\n",
    "We start by loading the dataset, for this we use [Pandas](https://pandas.pydata.org/)"
   ]
  },
  {
   "cell_type": "code",
   "execution_count": 2,
   "metadata": {},
   "outputs": [],
   "source": [
    "import pandas as pd\n",
    "\n",
    "df = pd.read_csv('twitter-hate-speech.csv', index_col=0)"
   ]
  },
  {
   "cell_type": "markdown",
   "metadata": {},
   "source": [
    "## 2. Quick dataset overview\n",
    "\n",
    "Now that the data is loaded, we'll have a quick look at what's available: What information do we have?\n",
    "\n",
    "I'll explain the columns you see in the dataset sample output:\n",
    "\n",
    "- **count** : Number of human annotations for this sample\n",
    "- **hate_speech** : Times annotated as containing hate speech\n",
    "- **offensive_language** : Times annotated as containing offensive language\n",
    "- **neither** : Times annotated as not containing hatefull of offensive language (normal, respectfull language)\n",
    "- **class** : Human annotated category, max votes determines category (0=Hate, 1=Offensive, 2=Neither)\n",
    "- **tweet** : The tweet's text\n",
    "\n",
    "From these available columns we'll use **class** as the value we try to predict and **tweet** as input to determine the class."
   ]
  },
  {
   "cell_type": "code",
   "execution_count": 3,
   "metadata": {},
   "outputs": [
    {
     "data": {
      "text/html": [
       "<div>\n",
       "<style scoped>\n",
       "    .dataframe tbody tr th:only-of-type {\n",
       "        vertical-align: middle;\n",
       "    }\n",
       "\n",
       "    .dataframe tbody tr th {\n",
       "        vertical-align: top;\n",
       "    }\n",
       "\n",
       "    .dataframe thead th {\n",
       "        text-align: right;\n",
       "    }\n",
       "</style>\n",
       "<table border=\"1\" class=\"dataframe\">\n",
       "  <thead>\n",
       "    <tr style=\"text-align: right;\">\n",
       "      <th></th>\n",
       "      <th>count</th>\n",
       "      <th>hate_speech</th>\n",
       "      <th>offensive_language</th>\n",
       "      <th>neither</th>\n",
       "      <th>class</th>\n",
       "      <th>tweet</th>\n",
       "    </tr>\n",
       "  </thead>\n",
       "  <tbody>\n",
       "    <tr>\n",
       "      <th>0</th>\n",
       "      <td>3</td>\n",
       "      <td>0</td>\n",
       "      <td>0</td>\n",
       "      <td>3</td>\n",
       "      <td>2</td>\n",
       "      <td>!!! RT @mayasolovely: As a woman you shouldn't complain about cleaning up your house. &amp;amp; as a man you should always take the trash ou...</td>\n",
       "    </tr>\n",
       "    <tr>\n",
       "      <th>1</th>\n",
       "      <td>3</td>\n",
       "      <td>0</td>\n",
       "      <td>3</td>\n",
       "      <td>0</td>\n",
       "      <td>1</td>\n",
       "      <td>!!!!! RT @mleew17: boy dats cold...tyga dwn bad for cuffin dat hoe in the 1st place!!</td>\n",
       "    </tr>\n",
       "    <tr>\n",
       "      <th>2</th>\n",
       "      <td>3</td>\n",
       "      <td>0</td>\n",
       "      <td>3</td>\n",
       "      <td>0</td>\n",
       "      <td>1</td>\n",
       "      <td>!!!!!!! RT @UrKindOfBrand Dawg!!!! RT @80sbaby4life: You ever fuck a bitch and she start to cry? You be confused as shit</td>\n",
       "    </tr>\n",
       "    <tr>\n",
       "      <th>3</th>\n",
       "      <td>3</td>\n",
       "      <td>0</td>\n",
       "      <td>2</td>\n",
       "      <td>1</td>\n",
       "      <td>1</td>\n",
       "      <td>!!!!!!!!! RT @C_G_Anderson: @viva_based she look like a tranny</td>\n",
       "    </tr>\n",
       "    <tr>\n",
       "      <th>4</th>\n",
       "      <td>6</td>\n",
       "      <td>0</td>\n",
       "      <td>6</td>\n",
       "      <td>0</td>\n",
       "      <td>1</td>\n",
       "      <td>!!!!!!!!!!!!! RT @ShenikaRoberts: The shit you hear about me might be true or it might be faker than the bitch who told it to ya &amp;#57361;</td>\n",
       "    </tr>\n",
       "  </tbody>\n",
       "</table>\n",
       "</div>"
      ],
      "text/plain": [
       "   count  hate_speech  offensive_language  neither  class  \\\n",
       "0      3            0                   0        3      2   \n",
       "1      3            0                   3        0      1   \n",
       "2      3            0                   3        0      1   \n",
       "3      3            0                   2        1      1   \n",
       "4      6            0                   6        0      1   \n",
       "\n",
       "                                                                                                                                         tweet  \n",
       "0  !!! RT @mayasolovely: As a woman you shouldn't complain about cleaning up your house. &amp; as a man you should always take the trash ou...  \n",
       "1                                                        !!!!! RT @mleew17: boy dats cold...tyga dwn bad for cuffin dat hoe in the 1st place!!  \n",
       "2                     !!!!!!! RT @UrKindOfBrand Dawg!!!! RT @80sbaby4life: You ever fuck a bitch and she start to cry? You be confused as shit  \n",
       "3                                                                               !!!!!!!!! RT @C_G_Anderson: @viva_based she look like a tranny  \n",
       "4    !!!!!!!!!!!!! RT @ShenikaRoberts: The shit you hear about me might be true or it might be faker than the bitch who told it to ya &#57361;  "
      ]
     },
     "execution_count": 3,
     "metadata": {},
     "output_type": "execute_result"
    }
   ],
   "source": [
    "pd.set_option('max_colwidth', 140)\n",
    "\n",
    "df.head()"
   ]
  },
  {
   "cell_type": "markdown",
   "metadata": {},
   "source": [
    "Now let's see how much data there is in total?"
   ]
  },
  {
   "cell_type": "code",
   "execution_count": 15,
   "metadata": {},
   "outputs": [
    {
     "data": {
      "text/plain": [
       "(24783, 6)"
      ]
     },
     "execution_count": 15,
     "metadata": {},
     "output_type": "execute_result"
    }
   ],
   "source": [
    "df.shape"
   ]
  },
  {
   "cell_type": "markdown",
   "metadata": {},
   "source": [
    "### Assignment : Plot the distribution of class in the dataset\n",
    "\n",
    "An usefull insight can be to have a look at the distriution of categories in the dataset. Plotting can be done using the [Seaborn library](https://seaborn.pydata.org/).\n",
    "\n",
    "**Your assignment is to plot the distrubution (count) of the categories.**\n",
    "\n",
    "After plotting you will notice that the categories are not evenly distributed, category one has many more samples than the others. We'll get back to this later!\n",
    "\n",
    "*Hint: Look at the countplot function in seaborn documentation*"
   ]
  },
  {
   "cell_type": "code",
   "execution_count": 4,
   "metadata": {},
   "outputs": [],
   "source": [
    "import seaborn as sns\n",
    "\n",
    "%matplotlib inline"
   ]
  },
  {
   "cell_type": "markdown",
   "metadata": {},
   "source": [
    "## 3. Text preprocessing\n",
    "\n",
    "In the data above you can see that the text of the tweets contains lots of slang words, social media specific abbreviations and symbols mixed in. Also there are usernames and hashtags in the text, which we might not want a model to take into consideration for classifying (We'd like the model to learn hatefull/offensive keywords, rather than remember which users use bad language)\n",
    "\n",
    "For this we'll now look at text preprocessing to clean up the data.\n",
    "\n",
    "The two libraries we will use here are [sklean](http://scikit-learn.org) and [gensim](https://radimrehurek.com/gensim/).\n",
    "\n",
    "You can read more here:\n",
    "- [Gensim text preprocessing](https://radimrehurek.com/gensim/parsing/preprocessing.html)\n",
    "- [Sklearn text feature extraction](http://scikit-learn.org/stable/modules/feature_extraction.html#text-feature-extraction)\n",
    "\n",
    "First I will show what the default sklearn and gensim preprocessing functions do, then we'll have a deeper look and customize our own preprocessing pipeline."
   ]
  },
  {
   "cell_type": "markdown",
   "metadata": {},
   "source": [
    "### Whitespace splitting\n",
    "\n",
    "First let's see how the output looks when we simply split on whitespace. What you will see is that the tweets are simpy split up into separate words, all noise such as symbols is retained of course."
   ]
  },
  {
   "cell_type": "code",
   "execution_count": 16,
   "metadata": {},
   "outputs": [
    {
     "data": {
      "text/plain": [
       "0    [!!!, RT, @mayasolovely:, As, a, woman, you, shouldn't, complain, about, cleaning, up, your, house., &amp;, as, a, man, you, should, alw...\n",
       "1                                         [!!!!!, RT, @mleew17:, boy, dats, cold...tyga, dwn, bad, for, cuffin, dat, hoe, in, the, 1st, place!!]\n",
       "2    [!!!!!!!, RT, @UrKindOfBrand, Dawg!!!!, RT, @80sbaby4life:, You, ever, fuck, a, bitch, and, she, start, to, cry?, You, be, confused, as,...\n",
       "3                                                                       [!!!!!!!!!, RT, @C_G_Anderson:, @viva_based, she, look, like, a, tranny]\n",
       "4    [!!!!!!!!!!!!!, RT, @ShenikaRoberts:, The, shit, you, hear, about, me, might, be, true, or, it, might, be, faker, than, the, bitch, who,...\n",
       "Name: tweet, dtype: object"
      ]
     },
     "execution_count": 16,
     "metadata": {},
     "output_type": "execute_result"
    }
   ],
   "source": [
    "df['tweet'].head(n=5).apply(lambda x: x.split())"
   ]
  },
  {
   "cell_type": "markdown",
   "metadata": {},
   "source": [
    "### Sklearn default tokenizer\n",
    "\n",
    "Next up is the sklean tokenizer. This already does some text cleaning, such as removing symbols and [stopwords](https://en.wikipedia.org/wiki/Stop_words)."
   ]
  },
  {
   "cell_type": "code",
   "execution_count": 18,
   "metadata": {},
   "outputs": [
    {
     "data": {
      "text/plain": [
       "0     [rt, mayasolovely, woman, shouldn, complain, cleaning, house, amp, man, trash]\n",
       "1       [rt, mleew17, boy, dats, cold, tyga, dwn, bad, cuffin, dat, hoe, 1st, place]\n",
       "2    [rt, urkindofbrand, dawg, rt, 80sbaby4life, fuck, bitch, start, confused, shit]\n",
       "3                                 [rt, c_g_anderson, viva_based, look, like, tranny]\n",
       "4              [rt, shenikaroberts, shit, hear, true, faker, bitch, told, ya, 57361]\n",
       "Name: tweet, dtype: object"
      ]
     },
     "execution_count": 18,
     "metadata": {},
     "output_type": "execute_result"
    }
   ],
   "source": [
    "from sklearn.feature_extraction.text import CountVectorizer\n",
    "\n",
    "sklearn_default_preprocessor = CountVectorizer(strip_accents='unicode', stop_words='english').build_analyzer()\n",
    "\n",
    "df['tweet'].head(n=5).apply(sklearn_default_preprocessor)"
   ]
  },
  {
   "cell_type": "markdown",
   "metadata": {},
   "source": [
    "### Gensim preprocessor\n",
    "\n",
    "Finally we will have a look at the gensim preprocessor. This does even more cleaning of the text, for example removing short tokens, numbers and it does [stemming](https://nlp.stanford.edu/IR-book/html/htmledition/stemming-and-lemmatization-1.html)."
   ]
  },
  {
   "cell_type": "code",
   "execution_count": 21,
   "metadata": {},
   "outputs": [
    {
     "data": {
      "text/plain": [
       "0    [mayasolov, woman, shouldn, complain, clean, hous, amp, man, trash]\n",
       "1       [mleew, boi, dat, cold, tyga, dwn, bad, cuffin, dat, hoe, place]\n",
       "2      [urkindofbrand, dawg, sbabylif, fuck, bitch, start, confus, shit]\n",
       "3                             [anderson, viva, base, look, like, tranni]\n",
       "4                  [shenikarobert, shit, hear, true, faker, bitch, told]\n",
       "Name: tweet, dtype: object"
      ]
     },
     "execution_count": 21,
     "metadata": {},
     "output_type": "execute_result"
    }
   ],
   "source": [
    "from gensim.parsing.preprocessing import preprocess_string\n",
    "\n",
    "df['tweet'].head(n=5).apply(preprocess_string)"
   ]
  },
  {
   "cell_type": "markdown",
   "metadata": {},
   "source": [
    "### Assignment: Customized preprocessor\n",
    "\n",
    "We have shown a few different approaches for preprocessing text, now we'll create a customized preprocessor that does some extra social media specific data cleaning.\n",
    "\n",
    "For example:\n",
    "- Remove usernames\n",
    "- Remove 'hash' from hashtags\n",
    "- No stemming\n",
    "\n",
    "**Take a look at the code below and complete the preprocessing functions**\n",
    "\n",
    "*Hint: Look at how to lowercase strings and how to use regular expressions in python*"
   ]
  },
  {
   "cell_type": "code",
   "execution_count": null,
   "metadata": {},
   "outputs": [],
   "source": [
    "from gensim.parsing.preprocessing import strip_tags, strip_punctuation, strip_multiple_whitespaces, strip_numeric, \\\n",
    "    remove_stopwords\n",
    "\n",
    "def drop_short(tweet):\n",
    "    # This function is included as an example, it removes short tokens\n",
    "    return ' '.join(x for x in tweet.split() if len(x) >= 3)\n",
    "\n",
    "def to_lowercase(tweet):\n",
    "    return tweet  # TODO Complete this function\n",
    "\n",
    "def drop_usernames(tweet):\n",
    "    return tweet  # TODO Complete this function\n",
    "    \n",
    "my_filters = [ to_lowercase, drop_usernames, strip_multiple_whitespaces, strip_punctuation, strip_numeric,\n",
    "               remove_stopwords, drop_short ]\n",
    "\n",
    "df['tweet'].head(n=5).apply(lambda x: preprocess_string(x, my_filters))"
   ]
  },
  {
   "cell_type": "markdown",
   "metadata": {},
   "source": [
    "### Bonus assignment: Character NGram preprocessing\n",
    "\n",
    "In this assignment we'll use a different approach towards preprocessing, based on character ngrams. This means instead of splitting into words, the text is split into groups on N letters.\n",
    "\n",
    "Using character n-grams instead of words can give you better results, because there is some tolerance for spelling mistakes (if one letter of a word is different, most ngrams will still appear, while the whole word would not match at all). Also symbols such as commas, exclamation marks or even smileys are be taken into account.\n",
    "\n",
    "**Complete the code below and have a look at the output, experiment with the parameters**\n",
    "\n",
    "For example trigrams (length three) is often used."
   ]
  },
  {
   "cell_type": "code",
   "execution_count": null,
   "metadata": {},
   "outputs": [],
   "source": [
    "ngram_preprocessor = CountVectorizer(strip_accents='unicode', analyzer=..., ngram_range=...).build_analyzer()\n",
    "\n",
    "df['tweet'].head(n=5).apply(...)"
   ]
  },
  {
   "cell_type": "markdown",
   "metadata": {},
   "source": [
    "## 4. Feature creation\n",
    "\n",
    "In the above section we have preprocessed the text of the tweets and removed noisy or undesireable words. Also the tweets have been split into separate words, this is called tokenization. With this preparation done, we are now ready to transform the data into a format suitable for a machine learning model.\n",
    "\n",
    "Machine learning models generally require numerical input, they don't work on text or words directly. Also machine learning models usually require a fixed amount of input columns or features. So in this section we will transform the variable-length tokenized tweets into a fixed set of features.\n",
    "\n",
    "One method of of transforming variable-length texts to a fixed set of numerical features is using each unique word as a feature, and using the count of that word in the text as the value. This is called bag-of-words, below is an demostrationof this, there are some example sentences and the table shows them transformed into bag-of-words features:\n",
    "\n",
    "1. I love machine learning\n",
    "2. I hate learning boring things\n",
    "3. Machine learning is a passion\n",
    "\n",
    "\n",
    "| Sentence   | I | Love | Machine | Learning | Hate | Boring | Things | Is | A | Passion |\n",
    "| ---------- |:-:|:----:|:-------:|:--------:|:----:|:------:|:------:|:--:|:-:|:-------:|\n",
    "| Sentence 1 | 1 |    1 |       1 |        1 |    0 |      0 |      0 |  0 | 0 |       0 |\n",
    "| Sentence 2 | 1 |    0 |       1 |        0 |    1 |      1 |      1 |  0 | 0 |       0 |\n",
    "| Sentence 3 | 0 |    0 |       1 |        1 |    0 |      0 |      0 |  1 | 1 |       1 | \n",
    "\n",
    "We are going to do the this now for the tweets using a utility from sklearn, a CountVectorizer."
   ]
  },
  {
   "cell_type": "code",
   "execution_count": 26,
   "metadata": {},
   "outputs": [],
   "source": [
    "from sklearn.feature_extraction.text import TfidfVectorizer, CountVectorizer\n",
    "from gensim.parsing.preprocessing import preprocess_string\n",
    "\n",
    "vectorizer = CountVectorizer(strip_accents='unicode', stop_words='english')\n",
    "\n",
    "X = vectorizer.fit_transform(df['tweet'].values)\n",
    "y = df['class'].values"
   ]
  },
  {
   "cell_type": "markdown",
   "metadata": {},
   "source": [
    "Now let's have a look at what the output is?"
   ]
  },
  {
   "cell_type": "code",
   "execution_count": 27,
   "metadata": {},
   "outputs": [
    {
     "data": {
      "text/plain": [
       "<24783x35573 sparse matrix of type '<class 'numpy.int64'>'\n",
       "\twith 210603 stored elements in Compressed Sparse Row format>"
      ]
     },
     "execution_count": 27,
     "metadata": {},
     "output_type": "execute_result"
    }
   ],
   "source": [
    "X"
   ]
  },
  {
   "cell_type": "code",
   "execution_count": 28,
   "metadata": {},
   "outputs": [
    {
     "data": {
      "text/plain": [
       "(24783, 35573)"
      ]
     },
     "execution_count": 28,
     "metadata": {},
     "output_type": "execute_result"
    }
   ],
   "source": [
    "X.shape"
   ]
  },
  {
   "cell_type": "markdown",
   "metadata": {},
   "source": [
    "So this transformation has resulted in a matrix of 35573 feature columns, that's probably a few to many. Reason for this is, there is many words appearing once or twice. A machine learning algorithm can't learn much from words that appear so infrequently, or in any case the patterns that it might learn won't apply to many new tweets. So we can safely filter out a lot here. The easiest way is to filter by frequency, we simply drop tokens that appear only in a few examples."
   ]
  },
  {
   "cell_type": "code",
   "execution_count": 29,
   "metadata": {},
   "outputs": [],
   "source": [
    "vectorizer = CountVectorizer(min_df=5, strip_accents='unicode', stop_words='english')\n",
    "\n",
    "X_filtered = vectorizer.fit_transform(df['tweet'].values)"
   ]
  },
  {
   "cell_type": "code",
   "execution_count": 30,
   "metadata": {},
   "outputs": [
    {
     "data": {
      "text/plain": [
       "(24783, 4693)"
      ]
     },
     "execution_count": 30,
     "metadata": {},
     "output_type": "execute_result"
    }
   ],
   "source": [
    "X_filtered.shape"
   ]
  },
  {
   "cell_type": "markdown",
   "metadata": {},
   "source": [
    "### Assignment: Filtering tokens\n",
    "\n",
    "In this exercise we will experiment with filtering tokens by frequency to remove low-frequency tokens, since they would likely not be very usefull anyway.\n",
    "\n",
    "**Experiment with the code below to obtain a feature-matrix of around 500 to 1000 features.**\n",
    "\n",
    "*Hint: Have a look at the min_df parameter*"
   ]
  },
  {
   "cell_type": "code",
   "execution_count": 31,
   "metadata": {},
   "outputs": [],
   "source": [
    "vectorizer = CountVectorizer(min_df=..., strip_accents='unicode', stop_words='english')\n",
    "\n",
    "X_filtered_more = vectorizer.fit_transform(df['tweet'].values)"
   ]
  },
  {
   "cell_type": "code",
   "execution_count": null,
   "metadata": {},
   "outputs": [],
   "source": [
    "X_filtered_more.shape"
   ]
  },
  {
   "cell_type": "markdown",
   "metadata": {},
   "source": [
    "### Features from preprocessed data\n",
    "\n",
    "In the examples above we haven't yet used our preprocessing logic, we had just split up words as default. Let's do this now:"
   ]
  },
  {
   "cell_type": "code",
   "execution_count": 35,
   "metadata": {},
   "outputs": [],
   "source": [
    "vectorizer = CountVectorizer(min_df=10, strip_accents='unicode', analyzer='word',\n",
    "                             tokenizer=preprocess_string, stop_words='english')\n",
    "\n",
    "X_preprocessed = vectorizer.fit_transform(df['tweet'].values)"
   ]
  },
  {
   "cell_type": "code",
   "execution_count": 36,
   "metadata": {},
   "outputs": [
    {
     "data": {
      "text/plain": [
       "(24783, 2164)"
      ]
     },
     "execution_count": 36,
     "metadata": {},
     "output_type": "execute_result"
    }
   ],
   "source": [
    "X_preprocessed.shape"
   ]
  },
  {
   "cell_type": "markdown",
   "metadata": {},
   "source": [
    "### Assignment: Plug in our custom preprocessor\n",
    "\n",
    "In this exercise you will plug the custom preprocessor we created earlier in to the vectorizer.\n",
    "\n",
    "**Adjust the code below to use the custom preprocessor logic**\n",
    "\n",
    "*Hint: Use a lambda function*"
   ]
  },
  {
   "cell_type": "code",
   "execution_count": null,
   "metadata": {},
   "outputs": [],
   "source": [
    "vectorizer = CountVectorizer(min_df=10, strip_accents='unicode', analyzer='word',\n",
    "                             tokenizer=..., stop_words='english')\n",
    "\n",
    "X_custom = vectorizer.fit_transform(df['tweet'].values)"
   ]
  },
  {
   "cell_type": "markdown",
   "metadata": {},
   "source": [
    "### Bonus assignment: Character ngrams as features\n",
    "\n",
    "In this assignment we'll use a different approach towards features, based on character ngrams. This means instead of splitting into words, the text is split into groups on N letters.\n",
    "\n",
    "**Make a set of features using character ngrams**\n",
    "\n",
    "*Hint: Look at CountVectorizer documentation, analyzer='char'*"
   ]
  },
  {
   "cell_type": "code",
   "execution_count": 65,
   "metadata": {},
   "outputs": [],
   "source": []
  },
  {
   "cell_type": "markdown",
   "metadata": {},
   "source": [
    "## 5. Comparing the preprocessing / feature approaches\n",
    "\n",
    "We have now preprocessed the data and created several variants of features from the data. As a next step we'll apply a basic machine learning model and see which approach of preparing data works best.\n",
    "\n",
    "We might have some intuitions about what way of preprocessing data might work well for this dataset, but we can't be sure of that untill we calculate the score a model can achieve using those features. For example we might assume that removing stopwords or stemming words will help, but then find out that this actually hurts performance of our model.\n",
    "\n",
    "We will use a Naive Bayes model. While this is a relatively simple model, it often works well on textual data especially if there is limited training data.\n",
    "\n",
    "Evalutating each data processing approach is done by cross validation. This means splitting up the data into a training and test set, where the model is trained on the training data and then evaluated on the test data. In this case an improved cross validation approach is used, where the data is shuffled and split up into N different training/test combinations; the score from each of the N combinations contributes to a final average score.\n",
    "\n",
    "Here is an image to visualize this cross validation:\n",
    "\n",
    "![Cross Validation](./cross-validation.png \"Cross Validation\")"
   ]
  },
  {
   "cell_type": "code",
   "execution_count": 41,
   "metadata": {},
   "outputs": [
    {
     "name": "stdout",
     "output_type": "stream",
     "text": [
      "Score: 0.87 (+/- 0.00)\n"
     ]
    }
   ],
   "source": [
    "from sklearn.model_selection import cross_val_score, ShuffleSplit\n",
    "from sklearn.naive_bayes import MultinomialNB\n",
    "\n",
    "cv = ShuffleSplit(n_splits=10, test_size=0.2)\n",
    "\n",
    "scores = cross_val_score(MultinomialNB(), X, y, cv=cv)\n",
    "print(\"Score: %0.2f (+/- %0.2f)\" % (scores.mean(), scores.std()))"
   ]
  },
  {
   "cell_type": "markdown",
   "metadata": {},
   "source": [
    "### Assignment: Comparing features\n",
    "\n",
    "Above is shown how to compute the score of one approach of preprocessing. Now it's time to compute the scores for the other approaches.\n",
    "\n",
    "**Compute the scores for the other preprocessing and feature approaches, analoguous to above**\n",
    "\n",
    "*Hint: Copy and adjust the code above*"
   ]
  },
  {
   "cell_type": "code",
   "execution_count": null,
   "metadata": {},
   "outputs": [],
   "source": []
  },
  {
   "cell_type": "markdown",
   "metadata": {},
   "source": [
    "## 6. Machine learning models\n",
    "\n",
    "Above we have compared various preprocessing and feature approaches to see how they do, we used a naive bayes model there. Of course there is many machine learning models that can be used. In this section we'll have a look at a few machine learning models that are popular in the NLP area.\n",
    "\n",
    "We'll compute scores for various models, all using the filtered dataset.\n",
    "\n",
    "First is the baseline, naive bayes:"
   ]
  },
  {
   "cell_type": "code",
   "execution_count": 68,
   "metadata": {},
   "outputs": [
    {
     "name": "stdout",
     "output_type": "stream",
     "text": [
      "Score: 0.87 (+/- 0.00)\n"
     ]
    }
   ],
   "source": [
    "scores = cross_val_score(MultinomialNB(), X, y, cv=cv)\n",
    "print(\"Score: %0.2f (+/- %0.2f)\" % (scores.mean(), scores.std()))"
   ]
  },
  {
   "cell_type": "markdown",
   "metadata": {},
   "source": [
    "### Assignment: Compute scores with other models\n",
    "\n",
    "In this assignment you will compute scores for several other machine learning models.\n",
    "\n",
    "**Complete the code below and compute scores for all models**"
   ]
  },
  {
   "cell_type": "code",
   "execution_count": null,
   "metadata": {},
   "outputs": [],
   "source": [
    "from sklearn.naive_bayes import MultinomialNB\n",
    "from sklearn.linear_model import LogisticRegression\n",
    "from sklearn.tree import DecisionTreeClassifier\n",
    "from sklearn.svm import LinearSVC\n",
    "from lightgbm import LGBMClasifier\n",
    "\n",
    "models = [\n",
    "    MultinomialNB(),\n",
    "    LogisticRegression(),\n",
    "    LogisticRegression(multi_class='multinomial', solver='newton-cg'),\n",
    "    DecisionTreeClassifier(min_samples_split=50),\n",
    "    LinearSVC(),\n",
    "    LGBMClasifier()\n",
    "]"
   ]
  },
  {
   "cell_type": "markdown",
   "metadata": {},
   "source": [
    "## 7. Evaluation metrics & class imbalance\n",
    "\n",
    "We have now evaluated several approaches of preprocessing, feature creation and different machine learning models. For this evaluation we have used cross validation using a default metric, accuracy.\n",
    "\n",
    "It's good to keep in mind, such an evaluation metric just one number, that means it is a very simplified view of the world. In many cases it can be good practise to use different evaluation metrics and do more in-depth diagnosis of your machine learning model to determine how well it is really doing.\n",
    "\n",
    "Let's calculate a few different metrics and see what this tells us."
   ]
  },
  {
   "cell_type": "code",
   "execution_count": 127,
   "metadata": {},
   "outputs": [
    {
     "name": "stdout",
     "output_type": "stream",
     "text": [
      "Metric accuracy score: 0.88 (+/- 0.01)\n",
      "Metric f1_micro score: 0.89 (+/- 0.00)\n",
      "Metric f1_macro score: 0.69 (+/- 0.01)\n",
      "Metric f1_weighted score: 0.88 (+/- 0.01)\n"
     ]
    }
   ],
   "source": [
    "metrics = [\n",
    "    'accuracy',\n",
    "    'f1_micro',\n",
    "    'f1_macro',\n",
    "    'f1_weighted'\n",
    "]\n",
    "\n",
    "for metric in metrics:\n",
    "    scores = cross_val_score(MultinomialNB(), X_filtered, y, cv=cv, scoring=metric)\n",
    "    print(\"Metric %s score: %0.2f (+/- %0.2f)\" % (metric, scores.mean(), scores.std()))"
   ]
  },
  {
   "cell_type": "markdown",
   "metadata": {},
   "source": [
    "The metrics used above are accuracy and F1 score, with several variants of the F1 metric. The variants of the F1 metric are weighted differently for multiclass and could tell us if we have similar performance on each class/category. Apparently we do not! \n",
    "\n",
    "Let's have a closer look..."
   ]
  },
  {
   "cell_type": "code",
   "execution_count": 72,
   "metadata": {},
   "outputs": [
    {
     "name": "stdout",
     "output_type": "stream",
     "text": [
      "             precision    recall  f1-score   support\n",
      "\n",
      "       Hate       0.48      0.29      0.36       272\n",
      "  Offensive       0.93      0.95      0.94      3834\n",
      "    Neither       0.85      0.88      0.87       851\n",
      "\n",
      "avg / total       0.90      0.90      0.90      4957\n",
      "\n"
     ]
    }
   ],
   "source": [
    "from sklearn.model_selection import train_test_split\n",
    "from sklearn.metrics import classification_report\n",
    "\n",
    "X_train, X_test, y_train, y_test = train_test_split(X_filtered, y, test_size=0.2)\n",
    "\n",
    "model = LogisticRegression(multi_class='multinomial', solver='newton-cg')\n",
    "model.fit(X_train, y_train)\n",
    "\n",
    "print(classification_report(y_test, model.predict(X_test), target_names=('Hate', 'Offensive', 'Neither')))"
   ]
  },
  {
   "cell_type": "markdown",
   "metadata": {},
   "source": [
    "The classification report above tells us how well we do for the different classes / categories. In this case it seems we doing great in some and less well in other cases.\n",
    "\n",
    "One reason for this could be the imbalance in the dataset, the support column above tells you how many data samples there were per category. Remember the distribution plot we made earlier?"
   ]
  },
  {
   "cell_type": "code",
   "execution_count": 73,
   "metadata": {},
   "outputs": [
    {
     "data": {
      "text/plain": [
       "<matplotlib.axes._subplots.AxesSubplot at 0x7f37083889e8>"
      ]
     },
     "execution_count": 73,
     "metadata": {},
     "output_type": "execute_result"
    },
    {
     "data": {
      "image/png": "[encoded data removed]",
      "text/plain": [
       "<Figure size 432x288 with 1 Axes>"
      ]
     },
     "metadata": {},
     "output_type": "display_data"
    }
   ],
   "source": [
    "import seaborn as sns\n",
    "\n",
    "%matplotlib inline\n",
    "\n",
    "sns.countplot(df['class'])"
   ]
  },
  {
   "cell_type": "markdown",
   "metadata": {},
   "source": [
    "### Class weighting\n",
    "\n",
    "The effect this imbalance has, is that because there are many more samples for the 'Offensive' class, those have a larger impact on the training of the model.\n",
    "\n",
    "One way of dealing with this is weighting errors for each classes differently to compensate."
   ]
  },
  {
   "cell_type": "code",
   "execution_count": 74,
   "metadata": {},
   "outputs": [
    {
     "name": "stdout",
     "output_type": "stream",
     "text": [
      "             precision    recall  f1-score   support\n",
      "\n",
      "       Hate       0.29      0.56      0.38       272\n",
      "  Offensive       0.96      0.87      0.91      3834\n",
      "    Neither       0.81      0.92      0.86       851\n",
      "\n",
      "avg / total       0.90      0.86      0.88      4957\n",
      "\n"
     ]
    }
   ],
   "source": [
    "model = LogisticRegression(multi_class='multinomial', solver='newton-cg', class_weight='balanced')\n",
    "model.fit(X_train, y_train)\n",
    "\n",
    "print(classification_report(y_test, model.predict(X_test), target_names=('Hate', 'Offensive', 'Neither')))"
   ]
  },
  {
   "cell_type": "markdown",
   "metadata": {},
   "source": [
    "The above has improved the situation slightly, but the results are still not ideal. We can try out different versions of weighting."
   ]
  },
  {
   "cell_type": "code",
   "execution_count": 75,
   "metadata": {},
   "outputs": [
    {
     "name": "stdout",
     "output_type": "stream",
     "text": [
      "             precision    recall  f1-score   support\n",
      "\n",
      "       Hate       0.37      0.49      0.42       272\n",
      "  Offensive       0.96      0.90      0.93      3834\n",
      "    Neither       0.80      0.92      0.86       851\n",
      "\n",
      "avg / total       0.90      0.88      0.89      4957\n",
      "\n"
     ]
    }
   ],
   "source": [
    "model = LogisticRegression(multi_class='multinomial', solver='newton-cg', class_weight={0: 5.0, 1: 1.0, 2: 5.0})\n",
    "model.fit(X_train, y_train)\n",
    "\n",
    "print(classification_report(y_test, model.predict(X_test), target_names=('Hate', 'Offensive', 'Neither')))"
   ]
  },
  {
   "cell_type": "markdown",
   "metadata": {},
   "source": [
    "### Assignemnt: Class weighting\n",
    "\n",
    "In this assignment we will experiment with class weighting to improve model performance on classes with fewer samples.\n",
    "\n",
    "**Experiment with class weights and try to find parameters that improve the F1 score for the categories**"
   ]
  },
  {
   "cell_type": "code",
   "execution_count": null,
   "metadata": {},
   "outputs": [],
   "source": []
  },
  {
   "cell_type": "markdown",
   "metadata": {},
   "source": [
    "### Re-sampling\n",
    "Re-sampling\n",
    "Another approach to dealing with class imbalance is re-sampling. One library for this is SMOTE. Let's have a look!"
   ]
  },
  {
   "cell_type": "code",
   "execution_count": null,
   "metadata": {},
   "outputs": [],
   "source": [
    "from imblearn.over_sampling import SMOTE\n",
    "\n",
    "smote = SMOTE()\n",
    "X_resampled, y_resampled = smote.fit_sample(X_train, y_train)"
   ]
  },
  {
   "cell_type": "code",
   "execution_count": 85,
   "metadata": {},
   "outputs": [
    {
     "name": "stdout",
     "output_type": "stream",
     "text": [
      "             precision    recall  f1-score   support\n",
      "\n",
      "       Hate       0.28      0.54      0.37       272\n",
      "  Offensive       0.95      0.88      0.91      3834\n",
      "    Neither       0.83      0.88      0.86       851\n",
      "\n",
      "avg / total       0.89      0.86      0.87      4957\n",
      "\n"
     ]
    }
   ],
   "source": [
    "model = LogisticRegression(multi_class='multinomial', solver='newton-cg')\n",
    "model.fit(X_resampled, y_resampled)\n",
    "\n",
    "print(classification_report(y_test, model.predict(X_test), target_names=('Hate', 'Offensive', 'Neither')))"
   ]
  },
  {
   "cell_type": "markdown",
   "metadata": {},
   "source": [
    "### Assignment: Re-sampling methods\n",
    "\n",
    "We showed how to use one particular resampling method, there are many more of course. Here you can experiment with a few.\n",
    "\n",
    "**Try out a few re-sampling methods and see if they improve the scores.**\n",
    "\n",
    "*Hint have a look at imbalanced-learn documentation*"
   ]
  },
  {
   "cell_type": "code",
   "execution_count": null,
   "metadata": {},
   "outputs": [],
   "source": []
  }
 ],
 "metadata": {
  "kernelspec": {
   "display_name": "Python 3",
   "language": "python",
   "name": "python3"
  },
  "language_info": {
   "codemirror_mode": {
    "name": "ipython",
    "version": 3
   },
   "file_extension": ".py",
   "mimetype": "text/x-python",
   "name": "python",
   "nbconvert_exporter": "python",
   "pygments_lexer": "ipython3",
   "version": "3.5.3"
  }
 },
 "nbformat": 4,
 "nbformat_minor": 2
}
